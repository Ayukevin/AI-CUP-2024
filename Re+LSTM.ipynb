{
 "cells": [
  {
   "cell_type": "code",
   "execution_count": 5,
   "metadata": {},
   "outputs": [],
   "source": [
    "from tensorflow.keras.models import Sequential\n",
    "from tensorflow.keras.layers import Dense\n",
    "from tensorflow.keras.layers import LSTM\n",
    "from tensorflow.keras.layers import Dropout\n",
    "from tensorflow.keras.models import load_model\n",
    "\n",
    "from sklearn.linear_model import LinearRegression\n",
    "from sklearn.preprocessing import MinMaxScaler\n",
    "import joblib\n",
    "\n",
    "import numpy as np\n",
    "import pandas as pd\n",
    "import os\n",
    "\n",
    "import warnings\n",
    "warnings.filterwarnings(\"ignore\")"
   ]
  },
  {
   "cell_type": "code",
   "execution_count": null,
   "metadata": {},
   "outputs": [
    {
     "ename": "ValueError",
     "evalue": "Length mismatch: Expected axis has 7 elements, new values have 8 elements",
     "output_type": "error",
     "traceback": [
      "\u001b[1;31m---------------------------------------------------------------------------\u001b[0m",
      "\u001b[1;31mValueError\u001b[0m                                Traceback (most recent call last)",
      "Cell \u001b[1;32mIn[7], line 10\u001b[0m\n\u001b[0;32m      7\u001b[0m SourceData \u001b[38;5;241m=\u001b[39m pd\u001b[38;5;241m.\u001b[39mread_csv(DataName, encoding\u001b[38;5;241m=\u001b[39m\u001b[38;5;124m'\u001b[39m\u001b[38;5;124mutf-8\u001b[39m\u001b[38;5;124m'\u001b[39m)\n\u001b[0;32m      9\u001b[0m \u001b[38;5;66;03m#新增欄位名稱\u001b[39;00m\n\u001b[1;32m---> 10\u001b[0m \u001b[43mSourceData\u001b[49m\u001b[38;5;241;43m.\u001b[39;49m\u001b[43mcolumns\u001b[49m \u001b[38;5;241m=\u001b[39m  [\u001b[38;5;124m'\u001b[39m\u001b[38;5;124mindex\u001b[39m\u001b[38;5;124m'\u001b[39m,\u001b[38;5;124m'\u001b[39m\u001b[38;5;124mSerial\u001b[39m\u001b[38;5;124m'\u001b[39m, \u001b[38;5;124m'\u001b[39m\u001b[38;5;124mWindSpeed(m/s)\u001b[39m\u001b[38;5;124m'\u001b[39m, \u001b[38;5;124m'\u001b[39m\u001b[38;5;124mPressure(hpa)\u001b[39m\u001b[38;5;124m'\u001b[39m,\u001b[38;5;124m'\u001b[39m\u001b[38;5;124mTemperature(°C)\u001b[39m\u001b[38;5;124m'\u001b[39m,\u001b[38;5;124m'\u001b[39m\u001b[38;5;124mHumidity(\u001b[39m\u001b[38;5;124m%\u001b[39m\u001b[38;5;124m)\u001b[39m\u001b[38;5;124m'\u001b[39m,\u001b[38;5;124m'\u001b[39m\u001b[38;5;124mSunlight(Lux)\u001b[39m\u001b[38;5;124m'\u001b[39m,\u001b[38;5;124m'\u001b[39m\u001b[38;5;124mPower(mW)\u001b[39m\u001b[38;5;124m'\u001b[39m]\n\u001b[0;32m     12\u001b[0m \u001b[38;5;66;03m#迴歸分析 選擇要留下來的資料欄位\u001b[39;00m\n\u001b[0;32m     13\u001b[0m \u001b[38;5;66;03m#(風速,大氣壓力,溫度,濕度,光照度)\u001b[39;00m\n\u001b[0;32m     14\u001b[0m \u001b[38;5;66;03m#(發電量)\u001b[39;00m\n\u001b[0;32m     15\u001b[0m Regression_X_train \u001b[38;5;241m=\u001b[39m SourceData[[\u001b[38;5;124m'\u001b[39m\u001b[38;5;124mWindSpeed(m/s)\u001b[39m\u001b[38;5;124m'\u001b[39m,\u001b[38;5;124m'\u001b[39m\u001b[38;5;124mPressure(hpa)\u001b[39m\u001b[38;5;124m'\u001b[39m,\u001b[38;5;124m'\u001b[39m\u001b[38;5;124mTemperature(°C)\u001b[39m\u001b[38;5;124m'\u001b[39m,\u001b[38;5;124m'\u001b[39m\u001b[38;5;124mHumidity(\u001b[39m\u001b[38;5;124m%\u001b[39m\u001b[38;5;124m)\u001b[39m\u001b[38;5;124m'\u001b[39m,\u001b[38;5;124m'\u001b[39m\u001b[38;5;124mSunlight(Lux)\u001b[39m\u001b[38;5;124m'\u001b[39m]]\u001b[38;5;241m.\u001b[39mvalues\n",
      "File \u001b[1;32m~\\AppData\\Roaming\\Python\\Python311\\site-packages\\pandas\\core\\generic.py:6216\u001b[0m, in \u001b[0;36mNDFrame.__setattr__\u001b[1;34m(self, name, value)\u001b[0m\n\u001b[0;32m   6214\u001b[0m \u001b[38;5;28;01mtry\u001b[39;00m:\n\u001b[0;32m   6215\u001b[0m     \u001b[38;5;28mobject\u001b[39m\u001b[38;5;241m.\u001b[39m\u001b[38;5;21m__getattribute__\u001b[39m(\u001b[38;5;28mself\u001b[39m, name)\n\u001b[1;32m-> 6216\u001b[0m     \u001b[38;5;28;01mreturn\u001b[39;00m \u001b[38;5;28;43mobject\u001b[39;49m\u001b[38;5;241;43m.\u001b[39;49m\u001b[38;5;21;43m__setattr__\u001b[39;49m\u001b[43m(\u001b[49m\u001b[38;5;28;43mself\u001b[39;49m\u001b[43m,\u001b[49m\u001b[43m \u001b[49m\u001b[43mname\u001b[49m\u001b[43m,\u001b[49m\u001b[43m \u001b[49m\u001b[43mvalue\u001b[49m\u001b[43m)\u001b[49m\n\u001b[0;32m   6217\u001b[0m \u001b[38;5;28;01mexcept\u001b[39;00m \u001b[38;5;167;01mAttributeError\u001b[39;00m:\n\u001b[0;32m   6218\u001b[0m     \u001b[38;5;28;01mpass\u001b[39;00m\n",
      "File \u001b[1;32mproperties.pyx:69\u001b[0m, in \u001b[0;36mpandas._libs.properties.AxisProperty.__set__\u001b[1;34m()\u001b[0m\n",
      "File \u001b[1;32m~\\AppData\\Roaming\\Python\\Python311\\site-packages\\pandas\\core\\generic.py:767\u001b[0m, in \u001b[0;36mNDFrame._set_axis\u001b[1;34m(self, axis, labels)\u001b[0m\n\u001b[0;32m    762\u001b[0m \u001b[38;5;250m\u001b[39m\u001b[38;5;124;03m\"\"\"\u001b[39;00m\n\u001b[0;32m    763\u001b[0m \u001b[38;5;124;03mThis is called from the cython code when we set the `index` attribute\u001b[39;00m\n\u001b[0;32m    764\u001b[0m \u001b[38;5;124;03mdirectly, e.g. `series.index = [1, 2, 3]`.\u001b[39;00m\n\u001b[0;32m    765\u001b[0m \u001b[38;5;124;03m\"\"\"\u001b[39;00m\n\u001b[0;32m    766\u001b[0m labels \u001b[38;5;241m=\u001b[39m ensure_index(labels)\n\u001b[1;32m--> 767\u001b[0m \u001b[38;5;28;43mself\u001b[39;49m\u001b[38;5;241;43m.\u001b[39;49m\u001b[43m_mgr\u001b[49m\u001b[38;5;241;43m.\u001b[39;49m\u001b[43mset_axis\u001b[49m\u001b[43m(\u001b[49m\u001b[43maxis\u001b[49m\u001b[43m,\u001b[49m\u001b[43m \u001b[49m\u001b[43mlabels\u001b[49m\u001b[43m)\u001b[49m\n\u001b[0;32m    768\u001b[0m \u001b[38;5;28mself\u001b[39m\u001b[38;5;241m.\u001b[39m_clear_item_cache()\n",
      "File \u001b[1;32m~\\AppData\\Roaming\\Python\\Python311\\site-packages\\pandas\\core\\internals\\managers.py:227\u001b[0m, in \u001b[0;36mBaseBlockManager.set_axis\u001b[1;34m(self, axis, new_labels)\u001b[0m\n\u001b[0;32m    225\u001b[0m \u001b[38;5;28;01mdef\u001b[39;00m \u001b[38;5;21mset_axis\u001b[39m(\u001b[38;5;28mself\u001b[39m, axis: AxisInt, new_labels: Index) \u001b[38;5;241m-\u001b[39m\u001b[38;5;241m>\u001b[39m \u001b[38;5;28;01mNone\u001b[39;00m:\n\u001b[0;32m    226\u001b[0m     \u001b[38;5;66;03m# Caller is responsible for ensuring we have an Index object.\u001b[39;00m\n\u001b[1;32m--> 227\u001b[0m     \u001b[38;5;28;43mself\u001b[39;49m\u001b[38;5;241;43m.\u001b[39;49m\u001b[43m_validate_set_axis\u001b[49m\u001b[43m(\u001b[49m\u001b[43maxis\u001b[49m\u001b[43m,\u001b[49m\u001b[43m \u001b[49m\u001b[43mnew_labels\u001b[49m\u001b[43m)\u001b[49m\n\u001b[0;32m    228\u001b[0m     \u001b[38;5;28mself\u001b[39m\u001b[38;5;241m.\u001b[39maxes[axis] \u001b[38;5;241m=\u001b[39m new_labels\n",
      "File \u001b[1;32m~\\AppData\\Roaming\\Python\\Python311\\site-packages\\pandas\\core\\internals\\base.py:85\u001b[0m, in \u001b[0;36mDataManager._validate_set_axis\u001b[1;34m(self, axis, new_labels)\u001b[0m\n\u001b[0;32m     82\u001b[0m     \u001b[38;5;28;01mpass\u001b[39;00m\n\u001b[0;32m     84\u001b[0m \u001b[38;5;28;01melif\u001b[39;00m new_len \u001b[38;5;241m!=\u001b[39m old_len:\n\u001b[1;32m---> 85\u001b[0m     \u001b[38;5;28;01mraise\u001b[39;00m \u001b[38;5;167;01mValueError\u001b[39;00m(\n\u001b[0;32m     86\u001b[0m         \u001b[38;5;124mf\u001b[39m\u001b[38;5;124m\"\u001b[39m\u001b[38;5;124mLength mismatch: Expected axis has \u001b[39m\u001b[38;5;132;01m{\u001b[39;00mold_len\u001b[38;5;132;01m}\u001b[39;00m\u001b[38;5;124m elements, new \u001b[39m\u001b[38;5;124m\"\u001b[39m\n\u001b[0;32m     87\u001b[0m         \u001b[38;5;124mf\u001b[39m\u001b[38;5;124m\"\u001b[39m\u001b[38;5;124mvalues have \u001b[39m\u001b[38;5;132;01m{\u001b[39;00mnew_len\u001b[38;5;132;01m}\u001b[39;00m\u001b[38;5;124m elements\u001b[39m\u001b[38;5;124m\"\u001b[39m\n\u001b[0;32m     88\u001b[0m     )\n",
      "\u001b[1;31mValueError\u001b[0m: Length mismatch: Expected axis has 7 elements, new values have 8 elements"
     ]
    }
   ],
   "source": [
    "#設定LSTM往前看的筆數和預測筆數\n",
    "LookBackNum = 12 #LSTM往前看的筆數\n",
    "ForecastNum = 48 #預測筆數\n",
    "\n",
    "#載入訓練資料\n",
    "DataName = os.getcwd()+'\\36_TestSet_SubmissionTemplate\\AvgDATA_01_2024x12x09T15x33x35Z.csv'\n",
    "SourceData = pd.read_csv(DataName, encoding='utf-8')\n",
    "\n",
    "#新增欄位名稱\n",
    "SourceData.columns =  ['index','Serial', 'WindSpeed(m/s)', 'Pressure(hpa)','Temperature(°C)','Humidity(%)','Sunlight(Lux)','Power(mW)']\n",
    "\n",
    "#迴歸分析 選擇要留下來的資料欄位\n",
    "#(風速,大氣壓力,溫度,濕度,光照度)\n",
    "#(發電量)\n",
    "Regression_X_train = SourceData[['WindSpeed(m/s)','Pressure(hpa)','Temperature(°C)','Humidity(%)','Sunlight(Lux)']].values\n",
    "Regression_y_train = SourceData[['Power(mW)']].values\n",
    "\n",
    "#LSTM 選擇要留下來的資料欄位\n",
    "#(風速,大氣壓力,溫度,濕度,光照度)\n",
    "AllOutPut = SourceData[['WindSpeed(m/s)','Pressure(hpa)','Temperature(°C)','Humidity(%)','Sunlight(Lux)']].values\n",
    "\n",
    "#正規化\n",
    "LSTM_MinMaxModel = MinMaxScaler().fit(AllOutPut)\n",
    "AllOutPut_MinMax = LSTM_MinMaxModel.transform(AllOutPut)\n",
    "\n",
    "X_train = []\n",
    "y_train = []\n",
    "\n",
    "#設定每i-12筆資料(X_train)就對應到第i筆資料(y_train)\n",
    "for i in range(LookBackNum,len(AllOutPut_MinMax)):\n",
    "  X_train.append(AllOutPut_MinMax[i-LookBackNum:i, :])\n",
    "  y_train.append(AllOutPut_MinMax[i, :])\n",
    "\n",
    "\n",
    "X_train = np.array(X_train)\n",
    "y_train = np.array(y_train)\n",
    "\n",
    "# Reshaping\n",
    "#(samples 是訓練樣本數量,timesteps 是每個樣本的時間步長,features 是每個時間步的特徵數量)\n",
    "X_train = np.reshape(X_train,(X_train.shape [0], X_train.shape [1], 5))"
   ]
  },
  {
   "cell_type": "code",
   "execution_count": null,
   "metadata": {},
   "outputs": [],
   "source": [
    "#建置LSTM模型\n",
    "\n",
    "regressor = Sequential ()\n",
    "\n",
    "regressor.add(LSTM(units = 128, return_sequences = True, input_shape = (X_train.shape[1], 5)))\n",
    "\n",
    "regressor.add(LSTM(units = 64))\n",
    "\n",
    "regressor.add(Dropout(0.2))\n",
    "\n",
    "# output layer\n",
    "regressor.add(Dense(units = 5))\n",
    "regressor.compile(optimizer = 'adam', loss = 'mean_squared_error')\n",
    "\n",
    "#開始訓練\n",
    "regressor.fit(X_train, y_train, epochs = 100, batch_size = 128)\n",
    "\n",
    "#保存模型\n",
    "from datetime import datetime\n",
    "NowDateTime = datetime.now().strftime(\"%Y-%m-%dT%H_%M_%SZ\")\n",
    "regressor.save('WheatherLSTM_'+NowDateTime+'.h5')\n",
    "print('Model Saved')"
   ]
  },
  {
   "cell_type": "code",
   "execution_count": 7,
   "metadata": {},
   "outputs": [
    {
     "name": "stdout",
     "output_type": "stream",
     "text": [
      "截距:  [-126.74710465]\n",
      "係數 :  [[  -4.28728537 -158.61478856 -193.0531528   148.29232518 2283.83454946]]\n",
      "R squared:  0.972607744445583\n"
     ]
    }
   ],
   "source": [
    "#開始迴歸分析(對發電量做迴歸)\n",
    "RegressionModel = LinearRegression()\n",
    "RegressionModel.fit(LSTM_MinMaxModel.transform(Regression_X_train), Regression_y_train)\n",
    "\n",
    "#儲存回歸模型\n",
    "from datetime import datetime\n",
    "NowDateTime = datetime.now().strftime(\"%Y-%m-%dT%H_%M_%SZ\")\n",
    "joblib.dump(RegressionModel, 'WheatherRegression_'+NowDateTime)\n",
    "\n",
    "#取得截距\n",
    "print('截距: ',RegressionModel.intercept_)\n",
    "\n",
    "#取得係數\n",
    "print('係數 : ', RegressionModel.coef_)\n",
    "\n",
    "#取得R平方\n",
    "print('R squared: ',RegressionModel.score(LSTM_MinMaxModel.transform(Regression_X_train), Regression_y_train))"
   ]
  },
  {
   "cell_type": "code",
   "execution_count": 3,
   "metadata": {},
   "outputs": [
    {
     "name": "stderr",
     "output_type": "stream",
     "text": [
      "WARNING:absl:Compiled the loaded model, but the compiled metrics have yet to be built. `model.compile_metrics` will be empty until you train or evaluate the model.\n"
     ]
    },
    {
     "name": "stdout",
     "output_type": "stream",
     "text": [
      "count :  0\n"
     ]
    },
    {
     "ename": "NameError",
     "evalue": "name 'LSTM_MinMaxModel' is not defined",
     "output_type": "error",
     "traceback": [
      "\u001b[1;31m---------------------------------------------------------------------------\u001b[0m",
      "\u001b[1;31mNameError\u001b[0m                                 Traceback (most recent call last)",
      "Cell \u001b[1;32mIn[3], line 38\u001b[0m\n\u001b[0;32m     36\u001b[0m   \u001b[38;5;28;01mif\u001b[39;00m(\u001b[38;5;28mstr\u001b[39m(\u001b[38;5;28mint\u001b[39m(ReferTitle[DaysCount]))[:\u001b[38;5;241m8\u001b[39m] \u001b[38;5;241m==\u001b[39m \u001b[38;5;28mstr\u001b[39m(\u001b[38;5;28mint\u001b[39m(EXquestion[count]))[:\u001b[38;5;241m8\u001b[39m]):\n\u001b[0;32m     37\u001b[0m     TempData \u001b[38;5;241m=\u001b[39m ReferData[DaysCount]\u001b[38;5;241m.\u001b[39mreshape(\u001b[38;5;241m1\u001b[39m,\u001b[38;5;241m-\u001b[39m\u001b[38;5;241m1\u001b[39m)\n\u001b[1;32m---> 38\u001b[0m     TempData \u001b[38;5;241m=\u001b[39m \u001b[43mLSTM_MinMaxModel\u001b[49m\u001b[38;5;241m.\u001b[39mtransform(TempData)\n\u001b[0;32m     39\u001b[0m     inputs\u001b[38;5;241m.\u001b[39mappend(TempData)\n\u001b[0;32m     41\u001b[0m \u001b[38;5;66;03m#用迴圈不斷使新的預測值塞入參考資料，並預測下一筆資料\u001b[39;00m\n",
      "\u001b[1;31mNameError\u001b[0m: name 'LSTM_MinMaxModel' is not defined"
     ]
    }
   ],
   "source": [
    "#載入模型\n",
    "regressor = load_model('WheatherLSTM_2024-12-09T15_15_27Z.h5')\n",
    "Regression = joblib.load('WheatherRegression_2024-12-09T15_16_12Z')\n",
    "\n",
    "\n",
    "#載入測試資料\n",
    "DataName = os.getcwd()+r'\\微氣候數據處理(比賽用)\\source\\ANSWER_01_2024x12x09T14x41x26Z.csv'\n",
    "SourceData = pd.read_csv(DataName, encoding='utf-8')\n",
    "#新增欄位名稱\n",
    "SourceData.columns =  ['序號','答案']\n",
    "\n",
    "target = ['序號']\n",
    "EXquestion = SourceData[target].values\n",
    "\n",
    "inputs = [] #存放參考資料\n",
    "PredictOutput = [] #存放預測值(天氣參數)\n",
    "PredictPower = [] #存放預測值(發電量) \n",
    "\n",
    "count = 0\n",
    "while(count < len(EXquestion)):\n",
    "  print('count : ',count)\n",
    "  LocationCode = int(EXquestion[count])\n",
    "  strLocationCode = str(LocationCode)[-2:]\n",
    "  if LocationCode < 10 :\n",
    "    strLocationCode = '0'+LocationCode\n",
    "\n",
    "  DataName = os.getcwd()+'\\ExampleTrainData(IncompleteAVG)\\IncompleteAvgDATA_'+ strLocationCode +'.csv'\n",
    "  SourceData = pd.read_csv(DataName, encoding='utf-8')\n",
    "  ReferTitle = SourceData[['Serial']].values\n",
    "  ReferData = SourceData[['WindSpeed(m/s)','Pressure(hpa)','Temperature(°C)','Humidity(%)','Sunlight(Lux)']].values\n",
    "  \n",
    "  inputs = []#重置存放參考資料\n",
    "\n",
    "  #找到相同的一天，把12個資料都加進inputs\n",
    "  for DaysCount in range(len(ReferTitle)):\n",
    "    if(str(int(ReferTitle[DaysCount]))[:8] == str(int(EXquestion[count]))[:8]):\n",
    "      TempData = ReferData[DaysCount].reshape(1,-1)\n",
    "      TempData = LSTM_MinMaxModel.transform(TempData)\n",
    "      inputs.append(TempData)\n",
    "\n",
    "  #用迴圈不斷使新的預測值塞入參考資料，並預測下一筆資料\n",
    "  for i in range(ForecastNum) :\n",
    "\n",
    "    #print(i)\n",
    "    \n",
    "    #將新的預測值加入參考資料(用自己的預測值往前看)\n",
    "    if i > 0 :\n",
    "      inputs.append(PredictOutput[i-1].reshape(1,5))\n",
    "\n",
    "    #切出新的參考資料12筆(往前看12筆)\n",
    "    X_test = []\n",
    "    X_test.append(inputs[0+i:LookBackNum+i])\n",
    "    \n",
    "    #Reshaping\n",
    "    NewTest = np.array(X_test)\n",
    "    NewTest = np.reshape(NewTest, (NewTest.shape[0], NewTest.shape[1], 5))\n",
    "    \n",
    "    predicted = regressor.predict(NewTest)\n",
    "    PredictOutput.append(predicted)\n",
    "    PredictPower.append(np.round(Regression.predict(predicted),2).flatten())\n",
    "  \n",
    "  #每次預測都要預測48個，因此加48個會切到下一天\n",
    "  #0~47,48~95,96~143...\n",
    "  count += 48\n",
    "\n",
    "#寫預測結果寫成新的CSV檔案\n",
    "# 將陣列轉換為 DataFrame\n",
    "df = pd.DataFrame(PredictPower, columns=['答案'])\n",
    "df['target'] = SourceData[target]\n",
    "\n",
    "# 將 DataFrame 寫入 CSV 檔案\n",
    "df.to_csv('output.csv', index=False) \n",
    "print('Output CSV File Saved')"
   ]
  }
 ],
 "metadata": {
  "kernelspec": {
   "display_name": "Python 3",
   "language": "python",
   "name": "python3"
  },
  "language_info": {
   "codemirror_mode": {
    "name": "ipython",
    "version": 3
   },
   "file_extension": ".py",
   "mimetype": "text/x-python",
   "name": "python",
   "nbconvert_exporter": "python",
   "pygments_lexer": "ipython3",
   "version": "3.11.4"
  }
 },
 "nbformat": 4,
 "nbformat_minor": 2
}
