{
 "cells": [
  {
   "cell_type": "code",
   "execution_count": 1,
   "metadata": {},
   "outputs": [],
   "source": [
    "from tensorflow.keras.models import Sequential\n",
    "from tensorflow.keras.layers import Dense\n",
    "from tensorflow.keras.layers import LSTM\n",
    "from tensorflow.keras.layers import Dropout\n",
    "from tensorflow.keras.models import load_model\n",
    "\n",
    "from sklearn.linear_model import LinearRegression\n",
    "from sklearn.preprocessing import MinMaxScaler\n",
    "from sklearn.linear_model import Ridge\n",
    "from sklearn.ensemble import StackingRegressor\n",
    "from xgboost import XGBRegressor\n",
    "import joblib\n",
    "\n",
    "import numpy as np\n",
    "import pandas as pd\n",
    "import os\n",
    "\n",
    "import warnings\n",
    "warnings.filterwarnings(\"ignore\")"
   ]
  },
  {
   "cell_type": "code",
   "execution_count": 82,
   "metadata": {},
   "outputs": [],
   "source": [
    "#設定LSTM往前看的筆數和預測筆數\n",
    "LookBackNum = 12 #LSTM往前看的筆數\n",
    "ForecastNum = 48 #預測筆數\n",
    "\n",
    "#載入訓練資料\n",
    "DataName = os.getcwd()+'\\ExampleTrainData(AVG)\\AvgDATA_17.csv'\n",
    "SourceData = pd.read_csv(DataName, encoding='utf-8')\n",
    "\n",
    "#迴歸分析 選擇要留下來的資料欄位\n",
    "#(風速,大氣壓力,溫度,濕度,光照度)\n",
    "#(發電量)\n",
    "Regression_X_train = SourceData[['WindSpeed(m/s)','Pressure(hpa)','Temperature(°C)','Humidity(%)','Sunlight(Lux)']].values\n",
    "Regression_y_train = SourceData[['Power(mW)']].values\n",
    "\n",
    "#LSTM 選擇要留下來的資料欄位\n",
    "#(風速,大氣壓力,溫度,濕度,光照度)\n",
    "AllOutPut = SourceData[['WindSpeed(m/s)','Pressure(hpa)','Temperature(°C)','Humidity(%)','Sunlight(Lux)']].values\n",
    "\n",
    "#正規化\n",
    "LSTM_MinMaxModel = MinMaxScaler().fit(AllOutPut)\n",
    "AllOutPut_MinMax = LSTM_MinMaxModel.transform(AllOutPut)\n",
    "Regression_X_train_norm = LSTM_MinMaxModel.fit_transform(Regression_X_train)\n",
    "\n",
    "X_train = []\n",
    "y_train = []\n",
    "\n",
    "#設定每i-12筆資料(X_train)就對應到第i筆資料(y_train)\n",
    "for i in range(LookBackNum,len(AllOutPut_MinMax)):\n",
    "  X_train.append(AllOutPut_MinMax[i-LookBackNum:i, :])\n",
    "  y_train.append(AllOutPut_MinMax[i, :])\n",
    "\n",
    "\n",
    "X_train = np.array(X_train)\n",
    "y_train = np.array(y_train)\n",
    "\n",
    "# Reshaping\n",
    "#(samples 是訓練樣本數量,timesteps 是每個樣本的時間步長,features 是每個時間步的特徵數量)\n",
    "X_train = np.reshape(X_train,(X_train.shape [0], X_train.shape [1], 5))"
   ]
  },
  {
   "cell_type": "markdown",
   "metadata": {},
   "source": [
    "LSTM model training"
   ]
  },
  {
   "cell_type": "code",
   "execution_count": null,
   "metadata": {},
   "outputs": [],
   "source": [
    "regressor = Sequential ()\n",
    "\n",
    "regressor.add(LSTM(units = 128, return_sequences = True, input_shape = (X_train.shape[1], 5)))\n",
    "\n",
    "regressor.add(LSTM(units = 64))\n",
    "\n",
    "regressor.add(Dropout(0.2))\n",
    "\n",
    "# output layer\n",
    "regressor.add(Dense(units = 5))\n",
    "regressor.compile(optimizer = 'adam', loss = 'mean_squared_error')\n",
    "\n",
    "#開始訓練\n",
    "regressor.fit(X_train, y_train, epochs = 100, batch_size = 128)\n",
    "\n",
    "#保存模型\n",
    "from datetime import datetime\n",
    "regressor.save('WheatherLSTM.h5')\n",
    "print('Model Saved')"
   ]
  },
  {
   "cell_type": "markdown",
   "metadata": {},
   "source": [
    "Stacking model training"
   ]
  },
  {
   "cell_type": "code",
   "execution_count": 49,
   "metadata": {},
   "outputs": [
    {
     "name": "stdout",
     "output_type": "stream",
     "text": [
      "\u001b[1m163/163\u001b[0m \u001b[32m━━━━━━━━━━━━━━━━━━━━\u001b[0m\u001b[37m\u001b[0m \u001b[1m2s\u001b[0m 9ms/step\n",
      "Stacking Regressor R^2 score: 0.9613281998677713\n"
     ]
    }
   ],
   "source": [
    "# 使用 LSTM 模型預測特徵\n",
    "lstm_features = regressor.predict(X_train)\n",
    "\n",
    "# 融合特徵\n",
    "stack_input = np.hstack([Regression_X_train_norm[LookBackNum:], lstm_features])\n",
    "\n",
    "# 分割資料集\n",
    "X_train_stack, X_test_stack, y_train_stack, y_test_stack = train_test_split(stack_input, Regression_y_train[LookBackNum:], test_size=0.2, random_state=42)\n",
    "\n",
    "# 建立基礎模型\n",
    "ridge = LinearRegression()\n",
    "xgb = XGBRegressor(n_estimators=100, learning_rate=0.1)\n",
    "\n",
    "# 建立堆疊回歸模型\n",
    "stacking_regressor = StackingRegressor(\n",
    "    estimators=[('ridge', ridge), ('xgb', xgb)],\n",
    "    final_estimator=Ridge()\n",
    ")\n",
    "\n",
    "# 訓練堆疊回歸模型\n",
    "stacking_regressor.fit(X_train_stack, y_train_stack)\n",
    "\n",
    "# 評估模型\n",
    "score = stacking_regressor.score(X_test_stack, y_test_stack)\n",
    "joblib.dump(stacking_regressor, 'stacking_regressor.pkl')\n",
    "print(f'Stacking Regressor R^2 score: {score}')"
   ]
  },
  {
   "cell_type": "markdown",
   "metadata": {},
   "source": [
    "First: use LSTM model to predict"
   ]
  },
  {
   "cell_type": "code",
   "execution_count": null,
   "metadata": {},
   "outputs": [],
   "source": [
    "#載入模型\n",
    "regressor = load_model('WheatherLSTM.h5')\n",
    "\n",
    "# 載入測試資料\n",
    "DataName = os.getcwd() + r'\\ExampleTestData\\upload.csv'\n",
    "SourceData = pd.read_csv(DataName, encoding='utf-8')\n",
    "target = ['序號']\n",
    "EXquestion = SourceData[target].values\n",
    "\n",
    "inputs = []  # 存放參考資料\n",
    "PredictOutput = []  # 存放預測值\n",
    "\n",
    "LookBackNum = 12\n",
    "ForecastNum = 48\n",
    "expected_features = 5\n",
    "\n",
    "count = 0\n",
    "while count < len(EXquestion):\n",
    "    print('count : ', count)\n",
    "    LocationCode = int(EXquestion[count])  # 裝置編號\n",
    "    strLocationCode = str(LocationCode)[-2:]  # 裝置編號字串\n",
    "    if LocationCode < 10:\n",
    "        strLocationCode = '0' + str(LocationCode)\n",
    "\n",
    "    DataName = os.getcwd() + '\\ExampleTrainData(IncompleteAVG)\\IncompleteAvgDATA_' + strLocationCode + '.csv'\n",
    "    SourceData1 = pd.read_csv(DataName, encoding='utf-8')\n",
    "    ReferTitle = SourceData1[['Serial']].values\n",
    "    ReferData = SourceData1[['WindSpeed(m/s)', 'Pressure(hpa)', 'Temperature(°C)', 'Humidity(%)', 'Sunlight(Lux)']].values\n",
    "\n",
    "    inputs = []  # 重置存放參考資料\n",
    "\n",
    "    # 找到相同的一天，把12個資料都加進inputs\n",
    "    for DaysCount in range(len(ReferTitle)):\n",
    "        if str(int(ReferTitle[DaysCount]))[:8] == str(int(EXquestion[count]))[:8]:\n",
    "            inputs.append(ReferData[DaysCount])\n",
    "\n",
    "    # 確保 inputs 的長度一致\n",
    "    while len(inputs) < LookBackNum:\n",
    "        inputs.append([0] * expected_features)  # 使用零填充\n",
    "\n",
    "    # 用迴圈不斷使新的預測值塞入參考資料，並預測下一筆資料\n",
    "    for i in range(ForecastNum):\n",
    "\n",
    "        # 將新的預測值加入參考資料(用自己的預測值往前看)\n",
    "        if i > 0:\n",
    "            inputs.append(PredictOutput[i - 1])\n",
    "\n",
    "        # 切出新的參考資料12筆(往前看12筆)\n",
    "        X_test = []\n",
    "        X_test.append(inputs[0 + i:LookBackNum + i])\n",
    "\n",
    "        # Reshaping\n",
    "        NewTest = np.array(X_test)\n",
    "        NewTest = np.reshape(NewTest, (NewTest.shape[0], NewTest.shape[1], expected_features))  # 確保有5個特徵\n",
    "\n",
    "        # 確保 NewTest 的形狀與 LSTM 模型期望的形狀一致\n",
    "        print(f\"NewTest shape: {NewTest.shape}\")\n",
    "\n",
    "        predicted = regressor.predict(NewTest)\n",
    "        PredictOutput.append(round(predicted[0, 0], 2))\n",
    "\n",
    "    # 每次預測都要預測48個，因此加48個會切到下一天\n",
    "    count += 48"
   ]
  },
  {
   "cell_type": "code",
   "execution_count": null,
   "metadata": {},
   "outputs": [],
   "source": [
    "print(f\"Regression_X_train_norm shape: {Regression_X_train_norm.shape}\")\n",
    "print(f\"lstm_features shape: {lstm_features.shape}\")"
   ]
  },
  {
   "cell_type": "markdown",
   "metadata": {},
   "source": [
    "Second: use Stacking model to predict"
   ]
  },
  {
   "cell_type": "code",
   "execution_count": null,
   "metadata": {},
   "outputs": [],
   "source": [
    "stacking_regressor = load_model('stacking_regressor.pkl')\n",
    "\n",
    "# 將 LSTM 模型的預測結果作為新的特徵\n",
    "lstm_features = np.array(PredictOutput).reshape(-1, 1)\n",
    "\n",
    "# 準備堆疊模型的輸入特徵\n",
    "# 假設 Regression_X_norm 是之前正規化過的特徵\n",
    "test_features = np.hstack([Regression_X_train[LookBackNum:], lstm_features])\n",
    "\n",
    "# 使用堆疊模型進行最終預測\n",
    "stacking_predictions = stacking_regressor.predict(test_features)"
   ]
  },
  {
   "cell_type": "markdown",
   "metadata": {},
   "source": [
    "Output the prediction"
   ]
  },
  {
   "cell_type": "code",
   "execution_count": null,
   "metadata": {},
   "outputs": [
    {
     "name": "stdout",
     "output_type": "stream",
     "text": [
      "Output CSV File Saved\n"
     ]
    }
   ],
   "source": [
    "# 將預測結果寫成新的CSV檔案\n",
    "df = pd.DataFrame(stacking_predictions, columns=['答案'])\n",
    "df['target'] = SourceData['target']\n",
    "df = df[['target', '答案']]\n",
    "\n",
    "# 將 DataFrame 寫入 CSV 檔案\n",
    "df.to_csv('output.csv', index=False, header=True)\n",
    "print('Output CSV File Saved')"
   ]
  }
 ],
 "metadata": {
  "kernelspec": {
   "display_name": "Python 3",
   "language": "python",
   "name": "python3"
  },
  "language_info": {
   "codemirror_mode": {
    "name": "ipython",
    "version": 3
   },
   "file_extension": ".py",
   "mimetype": "text/x-python",
   "name": "python",
   "nbconvert_exporter": "python",
   "pygments_lexer": "ipython3",
   "version": "3.11.4"
  }
 },
 "nbformat": 4,
 "nbformat_minor": 2
}
